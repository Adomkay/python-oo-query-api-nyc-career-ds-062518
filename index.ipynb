{
 "cells": [
  {
   "cell_type": "markdown",
   "metadata": {},
   "source": [
    "# Querying an API"
   ]
  },
  {
   "cell_type": "markdown",
   "metadata": {},
   "source": [
    "In this lab, we will practice following the ETL (extract, transform, load) pattern to pull data from an external API, manipulate the data so we can use it, and finally make Python objects with the data.  We will walk through obtaining JSON from an API and converting that JSON into objects we can use in our applications.  All APIs aren't exactly the same, but we will understand the general flow for accessing API data by the end of this lab."
   ]
  },
  {
   "cell_type": "markdown",
   "metadata": {},
   "source": [
    "## Objectives\n",
    "\n",
    "* Understand how to create a personal key to gain access to an API's data\n",
    "* Understand how to clean the data and create Python objects from it"
   ]
  },
  {
   "cell_type": "markdown",
   "metadata": {},
   "source": [
    "## Beatles Concerts"
   ]
  },
  {
   "cell_type": "markdown",
   "metadata": {},
   "source": [
    "We will be working with the [setlist.fm](https://api.setlist.fm/docs/1.0/index.html) API to obtain information about Beatles concerts from 1965!  First, we'll need to be authorized to access this data before we can worry about setting up our models and relationships that we'll use later on to make related objects.  "
   ]
  },
  {
   "cell_type": "markdown",
   "metadata": {},
   "source": [
    "#### Part 1: Extraction\n",
    "\n",
    "As with most APIs, setlist.fm requires us to create an account and apply for our own API key to access its data.  Go to the link above and click on \"register first\" to fill out a form for creating an account.  Check your email for a message asking to confirm the newly created account.\n",
    "\n",
    "Once confirmation is complete, we can go back to the link above to \"apply for an API key\".  Fill out this form and we'll be assigned our very own, unique access token.\n",
    "\n",
    "Sweet! Now let's test our API key.  Click on the \"Try it out!\" button underneath the Resources header.  Now we can add our API key to the input field at the top part of the page.\n",
    "\n",
    "Let's try getting data on Beatles concerts from the 1965.  Under `/1.0/search/setlists`, set the search parameters for `artistName` to \"The Beatles\", `p` to 1, and `year` to 1965, respectively.  Also, we want our response data to be in the JSON format, so let's set the \"Response Content Type\" dropdown to \"application/json\".  Now, click on \"Try it out!\""
   ]
  },
  {
   "cell_type": "markdown",
   "metadata": {},
   "source": [
    "![test_response](test_response.png)"
   ]
  },
  {
   "cell_type": "markdown",
   "metadata": {},
   "source": [
    "Awesome!  Our request seems to be working properly."
   ]
  },
  {
   "cell_type": "markdown",
   "metadata": {},
   "source": [
    "**`setlist_data.py`**"
   ]
  },
  {
   "cell_type": "markdown",
   "metadata": {},
   "source": [
    "Now that we know that our API key is working, we will make our request in the setlist_data.py file so that our program can access the API's data.  We need to import requests at the top of the file.  Just as we did in our test run above, we will want to make the same GET request with headers for accepting a JSON response and our API key.  We can pass these into our GET request by means of a dictionary as we can see below:\n",
    "\n",
    "```python\n",
    "token = 'your-token-goes-here'\n",
    "headers = {'Accept': 'application/json', 'x-api-key': token}\n",
    "\n",
    "response = requests.get('https://api.setlist.fm/rest/1.0/search/setlists?artistName=The%20Beatles&p=1&year=1965', headers=headers)\n",
    "raw_data = json.loads(response.content)\n",
    "```"
   ]
  },
  {
   "cell_type": "markdown",
   "metadata": {},
   "source": [
    "Uncomment the debugger in the middle of the file to play around with out response data.  If we look at `response.content`, we see that the content of response variable above is one long JSON string.  We want to work with the dictionary inside that string, which is why we need to import json at the top of the file and use `json.loads` to transform our response's content into a format we can work with later."
   ]
  },
  {
   "cell_type": "markdown",
   "metadata": {},
   "source": [
    "#### Part 2: Transform"
   ]
  },
  {
   "cell_type": "markdown",
   "metadata": {},
   "source": [
    "Take another look at the `raw_data` -- it is one long dictionary. However, we are interested in the setlist data for each concert.  How can we pull only the setlist information from this object?  We want our `data` to be a list of the dictionaries, with each dictionary representing the data for one concert."
   ]
  },
  {
   "cell_type": "code",
   "execution_count": null,
   "metadata": {},
   "outputs": [],
   "source": []
  }
 ],
 "metadata": {
  "kernelspec": {
   "display_name": "Python 3",
   "language": "python",
   "name": "python3"
  },
  "language_info": {
   "codemirror_mode": {
    "name": "ipython",
    "version": 3
   },
   "file_extension": ".py",
   "mimetype": "text/x-python",
   "name": "python",
   "nbconvert_exporter": "python",
   "pygments_lexer": "ipython3",
   "version": "3.6.4"
  }
 },
 "nbformat": 4,
 "nbformat_minor": 2
}
